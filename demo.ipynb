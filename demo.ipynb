{
 "cells": [
  {
   "cell_type": "code",
   "execution_count": null,
   "id": "1e722ea6",
   "metadata": {},
   "outputs": [],
   "source": [
    "from src.rag_pipeline import RAGPipeline\n",
    "import os\n",
    "print(os.environ.get(\"HUGGINGFACE_HUB_TOKEN\"))\n",
    "# Initialize pipeline with default retriever and generator\n",
    "rag = RAGPipeline(max_context_tokens=1000)"
   ]
  },
  {
   "cell_type": "code",
   "execution_count": null,
   "id": "2072e6f0",
   "metadata": {},
   "outputs": [],
   "source": [
    "query = \"I like action movies with a strong plot\"\n",
    "response = rag.process_query(query)\n",
    "print(response)"
   ]
  },
  {
   "cell_type": "code",
   "execution_count": null,
   "id": "ffc3db36",
   "metadata": {},
   "outputs": [],
   "source": [
    "stream = rag.process_query(\"Show me comedies\", top_k=5, stream=True)\n",
    "for token in stream:\n",
    "    print(token, end=\"\", flush=True)"
   ]
  },
  {
   "cell_type": "code",
   "execution_count": null,
   "id": "c39b9660",
   "metadata": {},
   "outputs": [],
   "source": [
    "rag.reset_conversation()"
   ]
  }
 ],
 "metadata": {
  "kernelspec": {
   "display_name": "venv",
   "language": "python",
   "name": "python3"
  },
  "language_info": {
   "codemirror_mode": {
    "name": "ipython",
    "version": 3
   },
   "file_extension": ".py",
   "mimetype": "text/x-python",
   "name": "python",
   "nbconvert_exporter": "python",
   "pygments_lexer": "ipython3",
   "version": "3.13.4"
  }
 },
 "nbformat": 4,
 "nbformat_minor": 5
}
